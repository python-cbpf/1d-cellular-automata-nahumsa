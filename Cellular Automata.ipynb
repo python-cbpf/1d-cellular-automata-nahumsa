{
 "cells": [
  {
   "cell_type": "code",
   "execution_count": 3,
   "metadata": {},
   "outputs": [],
   "source": [
    "import numpy as np\n",
    "import matplotlib.pyplot as plt"
   ]
  },
  {
   "cell_type": "code",
   "execution_count": 41,
   "metadata": {},
   "outputs": [],
   "source": [
    "def rule_126(matrix):\n",
    "    \"\"\"\n",
    "    Makes a sierpinsky Triangle\n",
    "    \"\"\"\n",
    "    for i in range(len(matrix)-1):\n",
    "        for j in range(len(matrix[0])-1):\n",
    "            if ((matrix[i][j+1] + matrix[i][j-1] % 2)== 1):\n",
    "                matrix[i+1][j+1] = 1\n",
    "                matrix[i+1][j-1] = 1\n",
    "                matrix[i+1][j] = 1\n",
    "                \n",
    "\n",
    "def rule_60(matrix):\n",
    "    for i in range(len(matrix)-1):\n",
    "        for j in range(len(matrix[0])-1):\n",
    "            if matrix[i][j-1] == 1 and matrix[i][j] == 0 and matrix[i][j+1]== 1:\n",
    "                matrix[i+1][j] = 1\n",
    "            if matrix[i][j-1] == 1 and matrix[i][j] == 0 and matrix[i][j+1]== 0:\n",
    "                matrix[i+1][j] = 1\n",
    "            if matrix[i][j-1] == 0 and matrix[i][j] == 1 and matrix[i][j+1]== 1:\n",
    "                matrix[i+1][j] = 1\n",
    "            if matrix[i][j-1] == 0 and matrix[i][j] == 1 and matrix[i][j+1]== 0:\n",
    "                matrix[i+1][j] = 1\n",
    "\n",
    "def rule_30(matrix):\n",
    "    for i in range(len(matrix)-1):\n",
    "        for j in range(len(matrix[0])-1):\n",
    "            if matrix[i][j-1] == 0 and matrix[i][j] == 0 and matrix[i][j+1]== 1:\n",
    "                matrix[i+1][j] = 1\n",
    "            if matrix[i][j-1] == 1 and matrix[i][j] == 0 and matrix[i][j+1]== 0:\n",
    "                matrix[i+1][j] = 1\n",
    "            if matrix[i][j-1] == 0 and matrix[i][j] == 1 and matrix[i][j+1]== 1:\n",
    "                matrix[i+1][j] = 1\n",
    "            if matrix[i][j-1] == 0 and matrix[i][j] == 1 and matrix[i][j+1]== 0:\n",
    "                matrix[i+1][j] = 1\n",
    "                \n",
    "def cellular_automaton(T,n , rule = 'default'):\n",
    "    \"\"\"\n",
    "    T: Generations.\n",
    "    n: size of cellular automata\n",
    "    rule: Rule for generation.\n",
    "    \"\"\"\n",
    "    a = np.zeros((T,n))\n",
    "    a[0][n/2] = 1\n",
    "    if rule == 'default':\n",
    "        rule_126(a)\n",
    "    if rule == '30':\n",
    "        rule_30(a)\n",
    "    if rule == '60':\n",
    "        rule_60(a)\n",
    "    return a"
   ]
  },
  {
   "cell_type": "code",
   "execution_count": 29,
   "metadata": {},
   "outputs": [
    {
     "data": {
      "text/plain": [
       "<matplotlib.image.AxesImage at 0x7fb66431be50>"
      ]
     },
     "execution_count": 29,
     "metadata": {},
     "output_type": "execute_result"
    },
    {
     "data": {
      "image/png": "[encoded data removed]",
      "text/plain": [
       "<Figure size 432x288 with 1 Axes>"
      ]
     },
     "metadata": {
      "needs_background": "light"
     },
     "output_type": "display_data"
    }
   ],
   "source": [
    "plt.imshow(cellular_automaton(100,300))"
   ]
  },
  {
   "cell_type": "code",
   "execution_count": 32,
   "metadata": {},
   "outputs": [
    {
     "data": {
      "text/plain": [
       "<matplotlib.image.AxesImage at 0x7fb6641e53d0>"
      ]
     },
     "execution_count": 32,
     "metadata": {},
     "output_type": "execute_result"
    },
    {
     "data": {
      "image/png": "[encoded data removed]",
      "text/plain": [
       "<Figure size 432x288 with 1 Axes>"
      ]
     },
     "metadata": {
      "needs_background": "light"
     },
     "output_type": "display_data"
    }
   ],
   "source": [
    "plt.imshow(cellular_automaton(1000, 2000 ,rule ='30'))"
   ]
  },
  {
   "cell_type": "code",
   "execution_count": 53,
   "metadata": {},
   "outputs": [
    {
     "data": {
      "text/plain": [
       "<matplotlib.image.AxesImage at 0x7fb663b36f10>"
      ]
     },
     "execution_count": 53,
     "metadata": {},
     "output_type": "execute_result"
    },
    {
     "data": {
      "image/png": "[encoded data removed]",
      "text/plain": [
       "<Figure size 432x288 with 1 Axes>"
      ]
     },
     "metadata": {
      "needs_background": "light"
     },
     "output_type": "display_data"
    }
   ],
   "source": [
    "plt.imshow(cellular_automaton(100, 200 ,rule ='60'))"
   ]
  },
  {
   "cell_type": "code",
   "execution_count": null,
   "metadata": {},
   "outputs": [],
   "source": []
  }
 ],
 "metadata": {
  "kernelspec": {
   "display_name": "Python 2",
   "language": "python",
   "name": "python2"
  },
  "language_info": {
   "codemirror_mode": {
    "name": "ipython",
    "version": 2
   },
   "file_extension": ".py",
   "mimetype": "text/x-python",
   "name": "python",
   "nbconvert_exporter": "python",
   "pygments_lexer": "ipython2",
   "version": "2.7.16"
  }
 },
 "nbformat": 4,
 "nbformat_minor": 2
}
