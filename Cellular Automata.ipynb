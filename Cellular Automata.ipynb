{
 "cells": [
  {
   "cell_type": "code",
   "execution_count": 141,
   "metadata": {},
   "outputs": [],
   "source": [
    "import numpy as np\n",
    "import matplotlib.pyplot as plt"
   ]
  },
  {
   "cell_type": "code",
   "execution_count": 156,
   "metadata": {},
   "outputs": [],
   "source": [
    "def sierpinsky(matrix):\n",
    "    for i in range(len(matrix)-1):\n",
    "        for j in range(len(matrix[0])-1):\n",
    "            if ((matrix[i][j+1] + matrix[i][j-1] % 2)== 1):\n",
    "                matrix[i+1][j+1] = 1\n",
    "                matrix[i+1][j-1] = 1\n",
    "                matrix[i+1][j] = 1\n",
    "                \n",
    "def cellular_automaton(T, rule = 'default'):\n",
    "    \"\"\"\n",
    "    T: Generations.\n",
    "    rule: Rule for generation.\n",
    "    \"\"\"\n",
    "    n = 4*T\n",
    "    a = np.zeros((T,n))\n",
    "    a[0][n/2] = 1\n",
    "    if rule == 'default':\n",
    "        sierpinsky(a)\n",
    "    return a"
   ]
  },
  {
   "cell_type": "code",
   "execution_count": 155,
   "metadata": {},
   "outputs": [
    {
     "data": {
      "text/plain": [
       "<matplotlib.image.AxesImage at 0x7f029c77aa10>"
      ]
     },
     "execution_count": 155,
     "metadata": {},
     "output_type": "execute_result"
    },
    {
     "data": {
      "image/png": "[encoded data removed]",
      "text/plain": [
       "<Figure size 432x288 with 1 Axes>"
      ]
     },
     "metadata": {
      "needs_background": "light"
     },
     "output_type": "display_data"
    }
   ],
   "source": [
    "plt.imshow(cellular_automaton(100))"
   ]
  },
  {
   "cell_type": "code",
   "execution_count": null,
   "metadata": {},
   "outputs": [],
   "source": []
  }
 ],
 "metadata": {
  "language_info": {
   "codemirror_mode": {
    "name": "ipython",
    "version": 2
   },
   "file_extension": ".py",
   "mimetype": "text/x-python",
   "name": "python",
   "nbconvert_exporter": "python",
   "pygments_lexer": "ipython2",
   "version": "2.7.16"
  }
 },
 "nbformat": 4,
 "nbformat_minor": 2
}
